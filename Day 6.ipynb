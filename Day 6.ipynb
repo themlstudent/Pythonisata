{
 "cells": [
  {
   "cell_type": "markdown",
   "metadata": {},
   "source": [
    "# Day 6"
   ]
  },
  {
   "cell_type": "markdown",
   "metadata": {},
   "source": [
    "##  Python Booleans"
   ]
  },
  {
   "cell_type": "markdown",
   "metadata": {},
   "source": [
    "Booleans represent one of two values: `True` or `False`."
   ]
  },
  {
   "cell_type": "markdown",
   "metadata": {},
   "source": [
    "#### Boolean Values\n",
    "\n",
    "- In programming you often need to know if an expression is `True` or `False.`\n",
    "\n",
    "- You can evaluate any expression in Python, and get one of two answers, `True` or `False.`\n",
    "\n",
    "- When you compare two values, the expression is evaluated and Python returns the Boolean answer:"
   ]
  },
  {
   "cell_type": "code",
   "execution_count": 2,
   "metadata": {},
   "outputs": [
    {
     "name": "stdout",
     "output_type": "stream",
     "text": [
      "True\n",
      "False\n",
      "False\n"
     ]
    }
   ],
   "source": [
    "print(10 > 9)\n",
    "print(10 == 9)\n",
    "print(10 < 9)"
   ]
  },
  {
   "cell_type": "code",
   "execution_count": 3,
   "metadata": {},
   "outputs": [
    {
     "name": "stdout",
     "output_type": "stream",
     "text": [
      "b is not greater than a\n"
     ]
    }
   ],
   "source": [
    "a = 200\n",
    "b = 33\n",
    "\n",
    "if b > a:\n",
    "  print(\"b is greater than a\")\n",
    "else:\n",
    "  print(\"b is not greater than a\")"
   ]
  },
  {
   "cell_type": "markdown",
   "metadata": {},
   "source": [
    "The `bool()` function allows you to evaluate any value, and give you `True` or `False` in return,"
   ]
  },
  {
   "cell_type": "code",
   "execution_count": 4,
   "metadata": {},
   "outputs": [
    {
     "name": "stdout",
     "output_type": "stream",
     "text": [
      "True\n",
      "True\n"
     ]
    }
   ],
   "source": [
    "print(bool(\"Hello\"))\n",
    "print(bool(15))"
   ]
  },
  {
   "cell_type": "markdown",
   "metadata": {},
   "source": [
    "####  Some Values are False\n",
    "\n",
    "In fact, there are not many values that evaluate to `False`, except empty values, such as `()`, `[]`, `{}`, `\"\"`, the number `0`, and the value None. And of course the value `False` evaluates to False."
   ]
  },
  {
   "cell_type": "code",
   "execution_count": 5,
   "metadata": {},
   "outputs": [
    {
     "data": {
      "text/plain": [
       "False"
      ]
     },
     "execution_count": 5,
     "metadata": {},
     "output_type": "execute_result"
    }
   ],
   "source": [
    "bool(False)\n",
    "bool(None)\n",
    "bool(0)\n",
    "bool(\"\")\n",
    "bool(())\n",
    "bool([])\n",
    "bool({})"
   ]
  },
  {
   "cell_type": "markdown",
   "metadata": {},
   "source": [
    "## Python Operators"
   ]
  },
  {
   "cell_type": "markdown",
   "metadata": {},
   "source": [
    "Operators are used to perform operations on variables and values.\n",
    "\n",
    "In the example below, we use the `+ `operator to add together two values:"
   ]
  },
  {
   "cell_type": "code",
   "execution_count": 6,
   "metadata": {},
   "outputs": [
    {
     "name": "stdout",
     "output_type": "stream",
     "text": [
      "15\n"
     ]
    }
   ],
   "source": [
    "print(10 + 5)"
   ]
  },
  {
   "cell_type": "markdown",
   "metadata": {},
   "source": [
    "### Python divides the operators in the following groups:\n",
    "\n",
    "- Arithmetic operators\n",
    "- Assignment operators\n",
    "- Comparison operators\n",
    "- Logical operators\n",
    "- Identity operators\n",
    "- Membership operators\n",
    "- Bitwise operators"
   ]
  },
  {
   "cell_type": "markdown",
   "metadata": {},
   "source": [
    "### Python Arithmetic Operators"
   ]
  },
  {
   "cell_type": "markdown",
   "metadata": {},
   "source": [
    "Arithmetic operators are used with numeric values to perform common mathematical operations:"
   ]
  },
  {
   "cell_type": "markdown",
   "metadata": {},
   "source": [
    "| Operator \t| Name           \t| Example \t|\n",
    "|----------\t|----------------\t|---------\t|\n",
    "| +        \t| Addition       \t| x + y   \t|\n",
    "| -        \t| Subtraction    \t| x - y   \t|\n",
    "| *        \t| Multiplication \t| x * y   \t|\n",
    "| /        \t| Division       \t| x / y   \t|\n",
    "| %        \t| Modulus        \t| x % y   \t|\n",
    "| **       \t| Exponentiation \t| x ** y  \t|\n",
    "| //       \t| Floor division \t| x // y  \t|"
   ]
  },
  {
   "cell_type": "markdown",
   "metadata": {},
   "source": [
    "### Python Assignment Operators\n",
    "\n",
    "Assignment operators are used to assign values to variables:"
   ]
  },
  {
   "cell_type": "markdown",
   "metadata": {},
   "source": [
    "| Operator \t| Example \t| Same As    \t|\n",
    "|----------\t|---------\t|------------\t|\n",
    "| =        \t| x = 5   \t| x = 5      \t|\n",
    "| +=       \t| x += 3  \t| x = x + 3  \t|\n",
    "| -=       \t| x -= 3  \t| x = x - 3  \t|\n",
    "| *=       \t| x *= 3  \t| x = x * 3  \t|\n",
    "| /=       \t| x /= 3  \t| x = x / 3  \t|\n",
    "| %=       \t| x %= 3  \t| x = x % 3  \t|\n",
    "| //=      \t| x //= 3 \t| x = x // 3 \t|\n",
    "| **=      \t| x **= 3 \t| x = x ** 3 \t|\n",
    "| &=       \t| x &= 3  \t| x = x & 3  \t|\n",
    "| \\|=      \t| x \\|= 3 \t| x = x \\| 3 \t|\n",
    "| ^=       \t| x ^= 3  \t| x = x ^ 3  \t|\n",
    "| >>=      \t| x >>= 3 \t| x = x >> 3 \t|\n",
    "| <<=      \t| x <<= 3 \t| x = x << 3 \t|"
   ]
  },
  {
   "cell_type": "markdown",
   "metadata": {},
   "source": [
    "### Python Comparison Operators\n",
    "\n",
    "Comparison operators are used to compare two values:"
   ]
  },
  {
   "cell_type": "markdown",
   "metadata": {},
   "source": [
    "| Operator \t| Name                     \t| Example \t|\n",
    "|----------\t|--------------------------\t|---------\t|\n",
    "| ==       \t| Equal                    \t| x == y  \t|\n",
    "| !=       \t| Not equal                \t| x != y  \t|\n",
    "| >        \t| Greater than             \t| x > y   \t|\n",
    "| <        \t| Less than                \t| x < y   \t|\n",
    "| >=       \t| Greater than or equal to \t| x >= y  \t|\n",
    "| <=       \t| Less than or equal to    \t| x <= y  \t|"
   ]
  },
  {
   "cell_type": "markdown",
   "metadata": {},
   "source": [
    "### Python Logical Operators\n",
    "\n",
    "Logical operators are used to combine conditional statements:"
   ]
  },
  {
   "cell_type": "markdown",
   "metadata": {},
   "source": [
    "| Operator \t| Description                                             \t| Example               \t|\n",
    "|----------\t|---------------------------------------------------------\t|-----------------------\t|\n",
    "| and      \t| Returns True if both statements are true                \t| x < 5 and  x < 10     \t|\n",
    "| or       \t| Returns True if one of the statements is true           \t| x < 5 or x < 4        \t|\n",
    "| not      \t| Reverse the result, returns False if the result is true \t| not(x < 5 and x < 10) \t|"
   ]
  },
  {
   "cell_type": "markdown",
   "metadata": {},
   "source": [
    "### Python Identity Operators\n",
    "\n",
    "Identity operators are used to compare the objects, not if they are equal, but if they are actually the same object, with the same memory location:"
   ]
  },
  {
   "cell_type": "markdown",
   "metadata": {},
   "source": [
    "| Operator \t| Description                                            \t| Example    \t|\n",
    "|----------\t|--------------------------------------------------------\t|------------\t|\n",
    "| is       \t| Returns True if both variables are the same object     \t| x is y     \t|\n",
    "| is not   \t| Returns True if both variables are not the same object \t| x is not y \t|"
   ]
  },
  {
   "cell_type": "markdown",
   "metadata": {},
   "source": [
    "### Python Membership Operators\n",
    "\n",
    "Membership operators are used to test if a sequence is presented in an object:"
   ]
  },
  {
   "cell_type": "markdown",
   "metadata": {},
   "source": [
    "| Operator \t| Description                                                                      \t| Example \t|\n",
    "|----------\t|----------------------------------------------------------------------------------\t|---------\t|\n",
    "| in       \t| Returns True if a sequence with the specified value is present in the object     \t| x in y  \t|\n",
    "| not in   \t| Returns True if a sequence with the specified value is not present in the object \t| x not i \t|"
   ]
  },
  {
   "cell_type": "markdown",
   "metadata": {},
   "source": [
    "### Python Bitwise Operators\n",
    "\n",
    "Bitwise operators are used to compare (binary) numbers:"
   ]
  },
  {
   "cell_type": "markdown",
   "metadata": {},
   "source": [
    "| Operator \t| Name                 \t| Description                                                                                             \t|\n",
    "|----------\t|----------------------\t|---------------------------------------------------------------------------------------------------------\t|\n",
    "| &        \t| AND                  \t| Sets each bit to 1 if both bits are 1                                                                   \t|\n",
    "| \\|       \t| OR                   \t| Sets each bit to 1 if one of two bits is 1                                                              \t|\n",
    "|  ^       \t| XOR                  \t| Sets each bit to 1 if only one of two bits is 1                                                         \t|\n",
    "| ~        \t| NOT                  \t| Inverts all the bits                                                                                    \t|\n",
    "| <<       \t| Zero fill left shift \t| Shift left by pushing zeros in from the right and let the leftmost bits fall off                        \t|\n",
    "| >>       \t| Signed right shift   \t| Shift right by pushing copies of the leftmost bit in from the left, and let the rightmost bits fall off \t|"
   ]
  },
  {
   "cell_type": "code",
   "execution_count": null,
   "metadata": {},
   "outputs": [],
   "source": []
  }
 ],
 "metadata": {
  "kernelspec": {
   "display_name": "Python 3",
   "language": "python",
   "name": "python3"
  },
  "language_info": {
   "codemirror_mode": {
    "name": "ipython",
    "version": 3
   },
   "file_extension": ".py",
   "mimetype": "text/x-python",
   "name": "python",
   "nbconvert_exporter": "python",
   "pygments_lexer": "ipython3",
   "version": "3.8.5"
  }
 },
 "nbformat": 4,
 "nbformat_minor": 4
}
